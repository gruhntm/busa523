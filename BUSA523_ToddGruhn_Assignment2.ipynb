{
 "cells": [
  {
   "cell_type": "code",
   "execution_count": 14,
   "id": "8e8ecf3e",
   "metadata": {},
   "outputs": [
    {
     "name": "stdout",
     "output_type": "stream",
     "text": [
      "332\n"
     ]
    }
   ],
   "source": [
    "# 1\n",
    "# Write a program for flipping a coin 10,000 times and store the results in a list.\n",
    "# After which, identify the number of streaks. (streak - a series of 5 or more\n",
    "# heads or tails)\n",
    "\n",
    "import random\n",
    "\n",
    "coinflip = []\n",
    "counter = 0\n",
    "compare_value = 0\n",
    "num_streaks = 0\n",
    "\n",
    "# Assign coin flips to a list\n",
    "\n",
    "for x in range(0,10000):\n",
    "    coinflip_tmp = random.randint(0,1)\n",
    "    if coinflip_tmp == 0:\n",
    "        coinflip.insert(x, 'heads')\n",
    "    else:\n",
    "        coinflip.insert(x, 'tails')\n",
    "    ++x\n",
    "\n",
    "# Check for a streak of 5 or more\n",
    "for y in range(len(coinflip)):\n",
    "    current_value = compare_value\n",
    "    compare_value = coinflip[y]\n",
    "    if current_value == compare_value:            \n",
    "        counter += 1\n",
    "    elif current_value != compare_value:\n",
    "        counter = 0\n",
    "    if counter >= 5:\n",
    "        num_streaks += 1\n",
    "\n",
    "print(num_streaks)"
   ]
  },
  {
   "cell_type": "code",
   "execution_count": 61,
   "id": "65942731",
   "metadata": {},
   "outputs": [
    {
     "name": "stdout",
     "output_type": "stream",
     "text": [
      "How many Swords do you have?10\n",
      "How many Diamonds do you have?10\n",
      "How many Gold Coins do you have?10\n",
      "How many Rope do you have?10\n",
      "How many Potions do you have?10\n",
      "{'swords': '10', 'diamonds': '10', 'gold coins': '10', 'rope': '10', 'potions': '10'}\n"
     ]
    }
   ],
   "source": [
    "# 2\n",
    "# Write a program to take user inputs (number of swords, diamonds, gold coins,\n",
    "# ropes and potions) for a video game and store them in a dictionary. After\n",
    "# which print the following output.\n",
    "\n",
    "# Define inventory\n",
    "#inv_swords = 0\n",
    "#inv_diamonds = 0\n",
    "#inv_goldcoins = 0\n",
    "#inv_rope = 0\n",
    "#inv_potions =0\n",
    "\n",
    "inventory = {'swords':0, 'diamonds':0, 'gold coins':0, 'rope':0, 'potions':0}\n",
    "\n",
    "# Obtain inventory numbers\n",
    "for item, number in inventory.items():\n",
    "    inputvalue = input(f\"How many {item.title()} do you have?\")\n",
    "    inventory[item] = inputvalue\n",
    "    #number = int(input(\"Please enter a number greater than zero\")\n",
    "    #inventory{number()}\n",
    "    \n",
    "print(inventory)\n"
   ]
  },
  {
   "cell_type": "code",
   "execution_count": 42,
   "id": "88d26e11",
   "metadata": {},
   "outputs": [
    {
     "name": "stdout",
     "output_type": "stream",
     "text": [
      "['heads' 'heads' 'tails' ... 'tails' 'tails' 'tails']\n",
      "290\n"
     ]
    }
   ],
   "source": [
    "# 3\n",
    "# Repeat question 1 using arrays.\n",
    "\n",
    "import numpy\n",
    "import random\n",
    "\n",
    "coinflip_array = numpy.array([])\n",
    "counter = 0\n",
    "compare_value = 0\n",
    "num_streaks = 0\n",
    "\n",
    "# Assign coin flips to a list\n",
    "\n",
    "for x in range(0,10000):\n",
    "    coinflip_tmp2 = random.randint(0,1)\n",
    "    if coinflip_tmp2 == 0:\n",
    "        coinflip_array = numpy.append(coinflip_array, 'heads')\n",
    "    else:\n",
    "        coinflip_array = numpy.append(coinflip_array, 'tails')\n",
    "    ++x\n",
    "\n",
    "print(coinflip_array)\n",
    "\n",
    "# Check for a streak of 5 or more\n",
    "for y in range(len(coinflip_array)):\n",
    "    current_value = compare_value\n",
    "    compare_value = coinflip_array[y]\n",
    "    if current_value == compare_value:            \n",
    "        counter += 1\n",
    "    elif current_value != compare_value:\n",
    "        counter = 0\n",
    "    if counter >= 5:\n",
    "        num_streaks += 1\n",
    "\n",
    "print(num_streaks)"
   ]
  },
  {
   "cell_type": "code",
   "execution_count": 27,
   "id": "e1e76f41",
   "metadata": {},
   "outputs": [
    {
     "name": "stdout",
     "output_type": "stream",
     "text": [
      "The winner is Player 2\n"
     ]
    }
   ],
   "source": [
    "# 4\n",
    "# Create a game with the following instructions:\n",
    "#   a. There are 3 players and 10 iterations.\n",
    "#   b. In each iteration, every player rolls a die.\n",
    "#   c. The winner of the game is the one who has the highest score when rolls\n",
    "#      from all the iterations are added.\n",
    "\n",
    "import random\n",
    "\n",
    "player1 = []\n",
    "player2 = []\n",
    "player3 = []\n",
    "\n",
    "# Die roll\n",
    "for x in range(0,10):\n",
    "    player1.append(random.randint(1,6))\n",
    "    player2.append(random.randint(1,6))\n",
    "    player3.append(random.randint(1,6))\n",
    "    \n",
    "# Output die sum and store in dictionary\n",
    "sum_player1 = sum(player1)\n",
    "sum_player2 = sum(player2)\n",
    "sum_player3 = sum(player3)\n",
    "scores_dict = {1: sum_player1, 2:sum_player2, 3: sum_player3}\n",
    "\n",
    "# Find winner\n",
    "scores_max_key = max(scores_dict, key = scores_dict.get)\n",
    "print(\"The winner is Player\",scores_max_key)"
   ]
  }
 ],
 "metadata": {
  "kernelspec": {
   "display_name": "Python 3 (ipykernel)",
   "language": "python",
   "name": "python3"
  },
  "language_info": {
   "codemirror_mode": {
    "name": "ipython",
    "version": 3
   },
   "file_extension": ".py",
   "mimetype": "text/x-python",
   "name": "python",
   "nbconvert_exporter": "python",
   "pygments_lexer": "ipython3",
   "version": "3.9.7"
  }
 },
 "nbformat": 4,
 "nbformat_minor": 5
}
