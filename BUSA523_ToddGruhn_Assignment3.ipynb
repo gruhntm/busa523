{
 "cells": [
  {
   "cell_type": "code",
   "execution_count": 3,
   "id": "c8342b3b",
   "metadata": {},
   "outputs": [
    {
     "name": "stdout",
     "output_type": "stream",
     "text": [
      "Bad\n"
     ]
    }
   ],
   "source": [
    "# 1\n",
    "# Create a class to store student records. Each student has a first name, last name,\n",
    "# country, overall grade (0-4.0 scale), credits completed (total 30) and major.\n",
    "# Create a method within the class to evaluate student progress.\n",
    "\n",
    "class stuRecord:\n",
    "    # Define student record\n",
    "    def __init__(self, firstName, lastName, country, grade, credits, major):\n",
    "        self.firstName = firstName\n",
    "        self.lastName = lastName\n",
    "        self.country = country\n",
    "        self.grade = float(grade)\n",
    "        self.credits = int(credits)\n",
    "        self.major = major\n",
    "    # Evaluate student progress\n",
    "    def stuProgress(self):\n",
    "        if(self.grade > 3.0 and self.credits > 20):\n",
    "            print(\"Good\")\n",
    "        elif(self.grade > 2.5 or (self.credits > 10 and self.credits < 20)):\n",
    "            print(\"Average\")\n",
    "        elif(self.grade < 2.5):\n",
    "            print(\"Bad\")\n",
    "\n",
    "# Test the class\n",
    "stuTest = stuRecord(\"Jonh\",\"Doe\",\"USA\",1.75,20,\"Business Analytics\")\n",
    "stuTest.stuProgress()"
   ]
  },
  {
   "cell_type": "code",
   "execution_count": 38,
   "id": "521ef115",
   "metadata": {},
   "outputs": [
    {
     "name": "stdout",
     "output_type": "stream",
     "text": [
      "[-6, -3, -2, -8] , [5, 1, 9, 3]\n"
     ]
    }
   ],
   "source": [
    "# 2\n",
    "# Write a function which separates the positive and negative numbers from a \n",
    "# list of numbers.\n",
    "\n",
    "numList = [-6,5,-3,-2,1,0,-8,9,3]\n",
    "posList = []\n",
    "negList = []\n",
    "\n",
    "# Define sort list function\n",
    "def sortList(numList):\n",
    "    for x in range(len(numList)):\n",
    "        if(numList[x] > 0):\n",
    "            posList.append(numList[x])\n",
    "        elif(numList[x] < 0):\n",
    "            negList.append(numList[x])\n",
    "\n",
    "sortList(numList)\n",
    "print(negList,\",\",posList)"
   ]
  },
  {
   "cell_type": "code",
   "execution_count": 35,
   "id": "e9aa3d64",
   "metadata": {},
   "outputs": [
    {
     "name": "stdout",
     "output_type": "stream",
     "text": [
      "What is the player's score? 18\n",
      "[[8, 11], [9, 10], [9, 11], [10, 10], [10, 11]]\n"
     ]
    }
   ],
   "source": [
    "# 3\n",
    "# Write a function which outputs all winning possibilities for a given player's score.\n",
    "# Assume the score is always between 15 and 21. Further, the dealer only dealt 2 cards.\n",
    "\n",
    "def winningPossibilities(number):\n",
    "    sumCard = []\n",
    "    for x in range(1, 12):\n",
    "        for y in range(x, 12):\n",
    "            if( number < x + y  and x + y < 22):\n",
    "                sumCard.append([x, y])\n",
    "    print(sumCard)\n",
    "\n",
    "\n",
    "# Final Score input\n",
    "n = int(input(\"What is the player's score? \"))\n",
    "\n",
    "# Call Winning Possibilities function\n",
    "winningPossibilities(n)"
   ]
  },
  {
   "cell_type": "code",
   "execution_count": null,
   "id": "06f00a95",
   "metadata": {},
   "outputs": [],
   "source": [
    "# 4\n",
    "# Calculate the number of steps and Big O order for the programs in question 2 and 3.\n",
    "\n",
    "# Calculate Steps and Big O Order for #3\n",
    "#def sortList(numList):\n",
    "    #for x in range(len(numList)): n*steps in loop (9 in this case)\n",
    "        #if(numList[x] > 0):\n",
    "            #posList.append(numList[x]) 1 step\n",
    "        #elif(numList[x] < 0):\n",
    "            #negList.append(numList[x]) 1 step\n",
    "#sortList(numList) 1 step\n",
    "#print(negList,\",\",posList) 1 step\n",
    "#\n",
    "# Total number of steps is n*1 + 2 (11) and highest complexity is n; therefore the Big O order would be O(n).\n",
    "#\n",
    "# Calculate Steps and Big O Order for #4\n",
    "#def winningPossibilities(number):\n",
    "    #sumCard = []\n",
    "    #for x in range(1, 12): n*steps in loop\n",
    "        #for y in range(x, 12): n*steps in loop\n",
    "            #if( number < x + y  and x + y < 22): 1 step\n",
    "                #sumCard.append([x, y]) 1 step\n",
    "    #print(sumCard)\n",
    "#n = int(input(\"What is the player's score? \"))\n",
    "#winningPossibilities(n)\n",
    "#\n",
    "# Total number of steps is n * (n + 1) so n^2 + 1; the Big O order would be O(n^2)"
   ]
  }
 ],
 "metadata": {
  "kernelspec": {
   "display_name": "Python 3 (ipykernel)",
   "language": "python",
   "name": "python3"
  },
  "language_info": {
   "codemirror_mode": {
    "name": "ipython",
    "version": 3
   },
   "file_extension": ".py",
   "mimetype": "text/x-python",
   "name": "python",
   "nbconvert_exporter": "python",
   "pygments_lexer": "ipython3",
   "version": "3.9.7"
  }
 },
 "nbformat": 4,
 "nbformat_minor": 5
}
