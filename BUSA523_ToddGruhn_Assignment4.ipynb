{
 "cells": [
  {
   "cell_type": "code",
   "execution_count": 23,
   "id": "7af45b68",
   "metadata": {},
   "outputs": [
    {
     "data": {
      "text/html": [
       "<div>\n",
       "<style scoped>\n",
       "    .dataframe tbody tr th:only-of-type {\n",
       "        vertical-align: middle;\n",
       "    }\n",
       "\n",
       "    .dataframe tbody tr th {\n",
       "        vertical-align: top;\n",
       "    }\n",
       "\n",
       "    .dataframe thead th {\n",
       "        text-align: right;\n",
       "    }\n",
       "</style>\n",
       "<table border=\"1\" class=\"dataframe\">\n",
       "  <thead>\n",
       "    <tr style=\"text-align: right;\">\n",
       "      <th></th>\n",
       "      <th>Date</th>\n",
       "      <th>Temperature</th>\n",
       "      <th>Fuel_Price</th>\n",
       "      <th>MarkDown1</th>\n",
       "      <th>MarkDown2</th>\n",
       "      <th>MarkDown3</th>\n",
       "      <th>MarkDown4</th>\n",
       "      <th>MarkDown5</th>\n",
       "      <th>CPI</th>\n",
       "      <th>Unemployment</th>\n",
       "      <th>Day type</th>\n",
       "      <th>dept_1 sales</th>\n",
       "      <th>dept_2 sales</th>\n",
       "      <th>dept_3 sales</th>\n",
       "    </tr>\n",
       "  </thead>\n",
       "  <tbody>\n",
       "    <tr>\n",
       "      <th>0</th>\n",
       "      <td>5/2/10</td>\n",
       "      <td>42.31</td>\n",
       "      <td>2.572</td>\n",
       "      <td>NaN</td>\n",
       "      <td>NaN</td>\n",
       "      <td>NaN</td>\n",
       "      <td>NaN</td>\n",
       "      <td>NaN</td>\n",
       "      <td>211.096358</td>\n",
       "      <td>8.106</td>\n",
       "      <td>Regular day</td>\n",
       "      <td>24924.50</td>\n",
       "      <td>50605.27</td>\n",
       "      <td>13740.12</td>\n",
       "    </tr>\n",
       "    <tr>\n",
       "      <th>1</th>\n",
       "      <td>12/2/10</td>\n",
       "      <td>38.51</td>\n",
       "      <td>2.548</td>\n",
       "      <td>NaN</td>\n",
       "      <td>NaN</td>\n",
       "      <td>NaN</td>\n",
       "      <td>NaN</td>\n",
       "      <td>NaN</td>\n",
       "      <td>211.242170</td>\n",
       "      <td>8.106</td>\n",
       "      <td>Holiday</td>\n",
       "      <td>46039.49</td>\n",
       "      <td>44682.74</td>\n",
       "      <td>10887.84</td>\n",
       "    </tr>\n",
       "    <tr>\n",
       "      <th>2</th>\n",
       "      <td>19/02/2010</td>\n",
       "      <td>39.93</td>\n",
       "      <td>2.514</td>\n",
       "      <td>NaN</td>\n",
       "      <td>NaN</td>\n",
       "      <td>NaN</td>\n",
       "      <td>NaN</td>\n",
       "      <td>NaN</td>\n",
       "      <td>211.289143</td>\n",
       "      <td>8.106</td>\n",
       "      <td>Regular day</td>\n",
       "      <td>41595.55</td>\n",
       "      <td>47928.89</td>\n",
       "      <td>11523.47</td>\n",
       "    </tr>\n",
       "    <tr>\n",
       "      <th>3</th>\n",
       "      <td>26/02/2010</td>\n",
       "      <td>46.63</td>\n",
       "      <td>2.561</td>\n",
       "      <td>NaN</td>\n",
       "      <td>NaN</td>\n",
       "      <td>NaN</td>\n",
       "      <td>NaN</td>\n",
       "      <td>NaN</td>\n",
       "      <td>211.319643</td>\n",
       "      <td>8.106</td>\n",
       "      <td>Regular day</td>\n",
       "      <td>19403.54</td>\n",
       "      <td>44292.87</td>\n",
       "      <td>11135.17</td>\n",
       "    </tr>\n",
       "    <tr>\n",
       "      <th>4</th>\n",
       "      <td>5/3/10</td>\n",
       "      <td>46.50</td>\n",
       "      <td>2.625</td>\n",
       "      <td>NaN</td>\n",
       "      <td>NaN</td>\n",
       "      <td>NaN</td>\n",
       "      <td>NaN</td>\n",
       "      <td>NaN</td>\n",
       "      <td>211.350143</td>\n",
       "      <td>8.106</td>\n",
       "      <td>Regular day</td>\n",
       "      <td>21827.90</td>\n",
       "      <td>48397.98</td>\n",
       "      <td>12275.58</td>\n",
       "    </tr>\n",
       "    <tr>\n",
       "      <th>...</th>\n",
       "      <td>...</td>\n",
       "      <td>...</td>\n",
       "      <td>...</td>\n",
       "      <td>...</td>\n",
       "      <td>...</td>\n",
       "      <td>...</td>\n",
       "      <td>...</td>\n",
       "      <td>...</td>\n",
       "      <td>...</td>\n",
       "      <td>...</td>\n",
       "      <td>...</td>\n",
       "      <td>...</td>\n",
       "      <td>...</td>\n",
       "      <td>...</td>\n",
       "    </tr>\n",
       "    <tr>\n",
       "      <th>138</th>\n",
       "      <td>28/09/2012</td>\n",
       "      <td>76.08</td>\n",
       "      <td>3.666</td>\n",
       "      <td>3666.27</td>\n",
       "      <td>7.64</td>\n",
       "      <td>1.65</td>\n",
       "      <td>1417.96</td>\n",
       "      <td>4744.28</td>\n",
       "      <td>222.981658</td>\n",
       "      <td>6.908</td>\n",
       "      <td>Regular day</td>\n",
       "      <td>18947.81</td>\n",
       "      <td>45784.76</td>\n",
       "      <td>13085.95</td>\n",
       "    </tr>\n",
       "    <tr>\n",
       "      <th>139</th>\n",
       "      <td>5/10/12</td>\n",
       "      <td>68.55</td>\n",
       "      <td>3.617</td>\n",
       "      <td>8077.89</td>\n",
       "      <td>NaN</td>\n",
       "      <td>18.22</td>\n",
       "      <td>3617.43</td>\n",
       "      <td>3626.14</td>\n",
       "      <td>223.181477</td>\n",
       "      <td>6.573</td>\n",
       "      <td>Regular day</td>\n",
       "      <td>21904.47</td>\n",
       "      <td>48577.08</td>\n",
       "      <td>11676.98</td>\n",
       "    </tr>\n",
       "    <tr>\n",
       "      <th>140</th>\n",
       "      <td>12/10/12</td>\n",
       "      <td>62.99</td>\n",
       "      <td>3.601</td>\n",
       "      <td>2086.18</td>\n",
       "      <td>NaN</td>\n",
       "      <td>8.11</td>\n",
       "      <td>602.36</td>\n",
       "      <td>5926.45</td>\n",
       "      <td>223.381296</td>\n",
       "      <td>6.573</td>\n",
       "      <td>Regular day</td>\n",
       "      <td>22764.01</td>\n",
       "      <td>42112.67</td>\n",
       "      <td>10487.17</td>\n",
       "    </tr>\n",
       "    <tr>\n",
       "      <th>141</th>\n",
       "      <td>19/10/2012</td>\n",
       "      <td>67.97</td>\n",
       "      <td>3.594</td>\n",
       "      <td>950.33</td>\n",
       "      <td>NaN</td>\n",
       "      <td>4.93</td>\n",
       "      <td>80.25</td>\n",
       "      <td>2312.85</td>\n",
       "      <td>223.425723</td>\n",
       "      <td>6.573</td>\n",
       "      <td>Regular day</td>\n",
       "      <td>24185.27</td>\n",
       "      <td>42354.72</td>\n",
       "      <td>8548.87</td>\n",
       "    </tr>\n",
       "    <tr>\n",
       "      <th>142</th>\n",
       "      <td>26/10/2012</td>\n",
       "      <td>69.16</td>\n",
       "      <td>3.506</td>\n",
       "      <td>2585.85</td>\n",
       "      <td>31.75</td>\n",
       "      <td>6.00</td>\n",
       "      <td>1057.16</td>\n",
       "      <td>1305.01</td>\n",
       "      <td>223.444251</td>\n",
       "      <td>6.573</td>\n",
       "      <td>Regular day</td>\n",
       "      <td>27390.81</td>\n",
       "      <td>43134.88</td>\n",
       "      <td>9350.90</td>\n",
       "    </tr>\n",
       "  </tbody>\n",
       "</table>\n",
       "<p>143 rows × 14 columns</p>\n",
       "</div>"
      ],
      "text/plain": [
       "           Date  Temperature  Fuel_Price  MarkDown1  MarkDown2  MarkDown3  \\\n",
       "0        5/2/10        42.31       2.572        NaN        NaN        NaN   \n",
       "1       12/2/10        38.51       2.548        NaN        NaN        NaN   \n",
       "2    19/02/2010        39.93       2.514        NaN        NaN        NaN   \n",
       "3    26/02/2010        46.63       2.561        NaN        NaN        NaN   \n",
       "4        5/3/10        46.50       2.625        NaN        NaN        NaN   \n",
       "..          ...          ...         ...        ...        ...        ...   \n",
       "138  28/09/2012        76.08       3.666    3666.27       7.64       1.65   \n",
       "139     5/10/12        68.55       3.617    8077.89        NaN      18.22   \n",
       "140    12/10/12        62.99       3.601    2086.18        NaN       8.11   \n",
       "141  19/10/2012        67.97       3.594     950.33        NaN       4.93   \n",
       "142  26/10/2012        69.16       3.506    2585.85      31.75       6.00   \n",
       "\n",
       "     MarkDown4  MarkDown5         CPI  Unemployment     Day type  \\\n",
       "0          NaN        NaN  211.096358         8.106  Regular day   \n",
       "1          NaN        NaN  211.242170         8.106      Holiday   \n",
       "2          NaN        NaN  211.289143         8.106  Regular day   \n",
       "3          NaN        NaN  211.319643         8.106  Regular day   \n",
       "4          NaN        NaN  211.350143         8.106  Regular day   \n",
       "..         ...        ...         ...           ...          ...   \n",
       "138    1417.96    4744.28  222.981658         6.908  Regular day   \n",
       "139    3617.43    3626.14  223.181477         6.573  Regular day   \n",
       "140     602.36    5926.45  223.381296         6.573  Regular day   \n",
       "141      80.25    2312.85  223.425723         6.573  Regular day   \n",
       "142    1057.16    1305.01  223.444251         6.573  Regular day   \n",
       "\n",
       "     dept_1 sales  dept_2 sales  dept_3 sales  \n",
       "0        24924.50      50605.27      13740.12  \n",
       "1        46039.49      44682.74      10887.84  \n",
       "2        41595.55      47928.89      11523.47  \n",
       "3        19403.54      44292.87      11135.17  \n",
       "4        21827.90      48397.98      12275.58  \n",
       "..            ...           ...           ...  \n",
       "138      18947.81      45784.76      13085.95  \n",
       "139      21904.47      48577.08      11676.98  \n",
       "140      22764.01      42112.67      10487.17  \n",
       "141      24185.27      42354.72       8548.87  \n",
       "142      27390.81      43134.88       9350.90  \n",
       "\n",
       "[143 rows x 14 columns]"
      ]
     },
     "execution_count": 23,
     "metadata": {},
     "output_type": "execute_result"
    }
   ],
   "source": [
    "# Using the dataset provided, develop the following visualizations using the right\n",
    "# set of variables.\n",
    "\n",
    "import matplotlib.pyplot as mplt\n",
    "import pandas as pd\n",
    "\n",
    "data = pd.read_csv(\"data.csv\")\n",
    "\n",
    "data"
   ]
  },
  {
   "cell_type": "code",
   "execution_count": 21,
   "id": "51308c8d",
   "metadata": {},
   "outputs": [
    {
     "data": {
      "text/plain": [
       "Text(0, 0.5, 'Number of Days')"
      ]
     },
     "execution_count": 21,
     "metadata": {},
     "output_type": "execute_result"
    },
    {
     "data": {
      "image/png": "[encoded data removed]",
      "text/plain": [
       "<Figure size 432x288 with 1 Axes>"
      ]
     },
     "metadata": {
      "needs_background": "light"
     },
     "output_type": "display_data"
    }
   ],
   "source": [
    "# 1. a. Histogram\n",
    "\n",
    "mplt.hist(data[\"Temperature\"], color = 'blue', edgecolor = 'black')\n",
    "mplt.xlabel('Temperature')\n",
    "mplt.ylabel('Number of Days')"
   ]
  },
  {
   "cell_type": "code",
   "execution_count": 40,
   "id": "aa83cc89",
   "metadata": {},
   "outputs": [
    {
     "data": {
      "text/plain": [
       "Text(0, 0.5, 'Price of Fuel')"
      ]
     },
     "execution_count": 40,
     "metadata": {},
     "output_type": "execute_result"
    },
    {
     "data": {
      "image/png": "[encoded data removed]",
      "text/plain": [
       "<Figure size 432x288 with 1 Axes>"
      ]
     },
     "metadata": {
      "needs_background": "light"
     },
     "output_type": "display_data"
    }
   ],
   "source": [
    "# 1. b. Bar Chart\n",
    "\n",
    "mplt.bar(x = data['Day type'], height = data['Fuel_Price'])\n",
    "mplt.xlabel('Type of Day')\n",
    "mplt.ylabel('Price of Fuel')"
   ]
  },
  {
   "cell_type": "code",
   "execution_count": 74,
   "id": "f7104bec",
   "metadata": {},
   "outputs": [
    {
     "data": {
      "image/png": "[encoded data removed]",
      "text/plain": [
       "<Figure size 432x288 with 1 Axes>"
      ]
     },
     "metadata": {
      "needs_background": "light"
     },
     "output_type": "display_data"
    }
   ],
   "source": [
    "# 1. c. Line Chart\n",
    "\n",
    "x_c = data['Date']\n",
    "y_c = data ['CPI']\n",
    "\n",
    "mplt.plot(x_c, y_c, color = 'green')\n",
    "\n",
    "ax_c = mplt.gca()\n",
    "\n",
    "ax_c.xaxis.set_major_locator(mplt.MaxNLocator(6))\n",
    "\n",
    "mplt.xlabel('Day')\n",
    "mplt.ylabel('CPI')\n",
    "mplt.show()"
   ]
  },
  {
   "cell_type": "code",
   "execution_count": 75,
   "id": "01e057ea",
   "metadata": {},
   "outputs": [
    {
     "data": {
      "image/png": "[encoded data removed]",
      "text/plain": [
       "<Figure size 432x288 with 1 Axes>"
      ]
     },
     "metadata": {
      "needs_background": "light"
     },
     "output_type": "display_data"
    }
   ],
   "source": [
    "# 1. d. Area Chart\n",
    "\n",
    "x_d = data['Date']\n",
    "y_d = data ['Unemployment']\n",
    "\n",
    "mplt.plot(x_d, y_d)\n",
    "\n",
    "ax_d = mplt.gca()\n",
    "\n",
    "ax_d.xaxis.set_major_locator(mplt.MaxNLocator(6))\n",
    "\n",
    "mplt.xlabel('Day')\n",
    "mplt.ylabel('Unemployment Rate')\n",
    "mplt.fill_between(x_d, y_d, color = 'gray', edgecolor = 'black')\n",
    "mplt.show()"
   ]
  },
  {
   "cell_type": "code",
   "execution_count": 76,
   "id": "758c6806",
   "metadata": {},
   "outputs": [
    {
     "data": {
      "text/plain": [
       "Text(0.5, 1.0, 'Dept. 3 Sales in relation to Temperature')"
      ]
     },
     "execution_count": 76,
     "metadata": {},
     "output_type": "execute_result"
    },
    {
     "data": {
      "image/png": "[encoded data removed]",
      "text/plain": [
       "<Figure size 432x288 with 1 Axes>"
      ]
     },
     "metadata": {
      "needs_background": "light"
     },
     "output_type": "display_data"
    }
   ],
   "source": [
    "# 1. e. Scatter Plot\n",
    "\n",
    "x_e = data['Temperature']\n",
    "y_e = data ['dept_3 sales']\n",
    "\n",
    "mplt.scatter(x_e, y_e, color = 'red', edgecolor = 'black')\n",
    "\n",
    "mplt.xlabel('Temperature')\n",
    "mplt.ylabel('Sales')\n",
    "mplt.title('Dept. 3 Sales in relation to Temperature')"
   ]
  }
 ],
 "metadata": {
  "kernelspec": {
   "display_name": "Python 3 (ipykernel)",
   "language": "python",
   "name": "python3"
  },
  "language_info": {
   "codemirror_mode": {
    "name": "ipython",
    "version": 3
   },
   "file_extension": ".py",
   "mimetype": "text/x-python",
   "name": "python",
   "nbconvert_exporter": "python",
   "pygments_lexer": "ipython3",
   "version": "3.9.7"
  }
 },
 "nbformat": 4,
 "nbformat_minor": 5
}
